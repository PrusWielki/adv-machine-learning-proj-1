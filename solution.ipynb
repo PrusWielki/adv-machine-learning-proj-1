{
 "cells": [
  {
   "cell_type": "code",
   "execution_count": 1,
   "metadata": {},
   "outputs": [],
   "source": [
    "import numpy as np"
   ]
  },
  {
   "cell_type": "markdown",
   "metadata": {},
   "source": [
    "1. "
   ]
  },
  {
   "cell_type": "markdown",
   "metadata": {},
   "source": [
    "Formulas have been taken from lecture slides.\n",
    "\n",
    "LDA:\n",
    "1. Calculate the assumed common covariance matrix\n",
    "2. Calculate the means for each of the two classes\n",
    "3. Plug into the formula $f_{kl}(x)=wx+b$, when $f(x) < 0$, predicted class: $l$, else predicted class: $k$\n",
    "    1. $w=(\\mu_k-\\mu_l)^T\\Sigma^{-1}$\n",
    "    2. $b=-\\frac{1}{2}(\\mu_k\\mu_l)^T\\Sigma^{-1}(\\mu_k+\\mu_l)+log\\frac{N_k}{N_l}$\n",
    "    \n",
    "QDA:\n",
    "1. Calculate the covariance matrix for each of the two classes\n",
    "2. Calculate the means for each of the two classes\n",
    "3. Plug into the formula $f(x)=sign(w^Tx+b)$\n",
    "    1. $w=\\Sigma^{-1}(\\mu_1-\\mu_{-1})$\n",
    "    2. $b=\\frac{1}{2}(\\mu_{-1}+\\mu_1)^T\\Sigma^{-1}(\\mu_{-1}-\\mu_1)+log\\frac{N_1}{N_{-1}}$\n",
    "    "
   ]
  },
  {
   "cell_type": "code",
   "execution_count": 36,
   "metadata": {},
   "outputs": [],
   "source": [
    "class LDA:\n",
    "    def __init__(self):\n",
    "        self.w=0\n",
    "        self.b=0\n",
    "        self.mean_0=0\n",
    "        self.mean_1=0\n",
    "        self.covariance_matrix=0\n",
    "\n",
    "    def fit(self,X,y):\n",
    "        classes= np.unique(y)\n",
    "        self.covariance_matrix = np.cov(X[y==classes[0]].T)\n",
    "        self.mean_0=np.mean(X[y==classes[0]], axis=0)\n",
    "        self.mean_1=np.mean(X[y==classes[1]], axis=0)\n",
    "\n",
    "        covariance_matrix_inverse = np.linalg.inv(self.covariance_matrix)\n",
    "        no_0 = (y==classes[0]).sum()\n",
    "        no_1=(y==classes[1]).sum()\n",
    "        # class 0 being class k, and class 1 being class l\n",
    "        self.w=(self.mean_0-self.mean_1).T.dot(covariance_matrix_inverse)\n",
    "        print((self.mean_0+self.mean_1).dot(covariance_matrix_inverse))\n",
    "        self.b=-(1/2)*(self.mean_0-self.mean_1).T.dot(covariance_matrix_inverse).dot((self.mean_0+self.mean_1))+np.log(no_0/no_1)\n",
    "\n",
    "        \n",
    "    def predict_proba(self, Xtest):\n",
    "        f = self.w.dot(Xtest)+self.b\n",
    "        print(\"Predicted: \",f)\n",
    "        return f\n",
    "    def predict(self, Xtest):\n",
    "        f = np.sign(self.w.dot(Xtest)+self.b)\n",
    "        print(\"Predicted class: \",1 if f==-1 else 0)\n",
    "        return 1 if f==-1 else 0\n",
    "    def get_params(self):\n",
    "        print(\"w: \",self.w ,\"\\nb: \",self.b, \"\\nm_0: \",self.mean_0, \"\\nm_1: \",self.mean_1,\"\\ncovariance matrix: \",self.covariance_matrix)\n",
    "        return (self.w, self.b,self.mean_0,self.mean_1,self.covariance_matrix)\n",
    "    \n",
    "class QDA:\n",
    "    def fit(X,y):\n",
    "        return NotImplementedError\n",
    "    def predict_proba(Xtest):\n",
    "        return NotImplementedError\n",
    "    def predict(Xtest):\n",
    "        return NotImplementedError\n",
    "    def get_params():\n",
    "        return NotImplementedError\n",
    "    \n",
    "\n",
    "class NB:\n",
    "    def fit(X,y):\n",
    "        return NotImplementedError\n",
    "    def predict_proba(Xtest):\n",
    "        return NotImplementedError\n",
    "    def predict(Xtest):\n",
    "        return NotImplementedError\n",
    "    def get_params():\n",
    "        return NotImplementedError\n",
    "    \n",
    "\n"
   ]
  },
  {
   "cell_type": "code",
   "execution_count": 10,
   "metadata": {},
   "outputs": [],
   "source": [
    "X = np.random.normal(3, 2.5, size=(10, 4))\n",
    "Y = np.random.randint(2,size=10)"
   ]
  },
  {
   "cell_type": "code",
   "execution_count": 38,
   "metadata": {},
   "outputs": [
    {
     "name": "stdout",
     "output_type": "stream",
     "text": [
      "[ 6.6127228   3.01819346  6.35489036 -2.56331025]\n",
      "w:  [ 0.98800239 -0.1979314   0.63877465 -0.81656575] \n",
      "b:  -3.245327417606693 \n",
      "m_0:  [3.60075308 2.94371556 3.8647735  2.1053826 ] \n",
      "m_1:  [2.65684817 3.10882529 3.68790492 1.95839528] \n",
      "covariance matrix:  [[ 6.66601065 -3.90163821 -1.35902893  6.79219403]\n",
      " [-3.90163821  7.90023943 -1.95017669 -7.95912272]\n",
      " [-1.35902893 -1.95017669  4.33756721  2.00490501]\n",
      " [ 6.79219403 -7.95912272  2.00490501 11.53582477]]\n"
     ]
    },
    {
     "data": {
      "text/plain": [
       "(array([ 0.98800239, -0.1979314 ,  0.63877465, -0.81656575]),\n",
       " -3.245327417606693,\n",
       " array([3.60075308, 2.94371556, 3.8647735 , 2.1053826 ]),\n",
       " array([2.65684817, 3.10882529, 3.68790492, 1.95839528]),\n",
       " array([[ 6.66601065, -3.90163821, -1.35902893,  6.79219403],\n",
       "        [-3.90163821,  7.90023943, -1.95017669, -7.95912272],\n",
       "        [-1.35902893, -1.95017669,  4.33756721,  2.00490501],\n",
       "        [ 6.79219403, -7.95912272,  2.00490501, 11.53582477]]))"
      ]
     },
     "execution_count": 38,
     "metadata": {},
     "output_type": "execute_result"
    }
   ],
   "source": [
    "lda=LDA()\n",
    "\n",
    "lda.fit(X,Y)\n",
    "lda.get_params()"
   ]
  }
 ],
 "metadata": {
  "kernelspec": {
   "display_name": "Python 3",
   "language": "python",
   "name": "python3"
  },
  "language_info": {
   "codemirror_mode": {
    "name": "ipython",
    "version": 3
   },
   "file_extension": ".py",
   "mimetype": "text/x-python",
   "name": "python",
   "nbconvert_exporter": "python",
   "pygments_lexer": "ipython3",
   "version": "3.12.2"
  }
 },
 "nbformat": 4,
 "nbformat_minor": 2
}
