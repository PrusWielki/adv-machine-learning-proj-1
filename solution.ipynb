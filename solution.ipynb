{
 "cells": [
  {
   "cell_type": "code",
   "execution_count": 1,
   "metadata": {},
   "outputs": [],
   "source": [
    "import numpy as np"
   ]
  },
  {
   "cell_type": "markdown",
   "metadata": {},
   "source": [
    "LDA:\n",
    "1. Calculate the assumed common covariance matrix\n",
    "2. Calculate the means for each of the two classes\n",
    "3. Plug into the formula $f(x)=sign(w^Tx+b)$\n",
    "    1. $w=\\Sigma^{-1}(\\mu_1-\\mu_{-1})$\n",
    "    2. $b=\\frac{1}{2}(\\mu_{-1}+\\mu_1)^T\\Sigma^{-1}(\\mu_{-1}-\\mu_1)+log\\frac{N_1}{N_{-1}}$\n",
    "    \n",
    "QDA:\n",
    "1. Calculate the covariance matrix for each of the two classes\n",
    "2. Calculate the means for each of the two classes\n",
    "3. Plug into the formula $f(x)=sign(w^Tx+b)$\n",
    "    1. $w=\\Sigma^{-1}(\\mu_1-\\mu_{-1})$\n",
    "    2. $b=\\frac{1}{2}(\\mu_{-1}+\\mu_1)^T\\Sigma^{-1}(\\mu_{-1}-\\mu_1)+log\\frac{N_1}{N_{-1}}$\n",
    "    "
   ]
  },
  {
   "cell_type": "code",
   "execution_count": 98,
   "metadata": {},
   "outputs": [],
   "source": [
    "class LDA:\n",
    "    def __init__(self):\n",
    "        self.w=0\n",
    "        self.b=0\n",
    "\n",
    "    def fit(self,X,y):\n",
    "        classes= np.unique(y)\n",
    "        covariance_matrix = np.cov(X[y==classes[0]].T)\n",
    "        mean_0=np.mean(X[y==classes[0]], axis=0)\n",
    "        print(mean_0)\n",
    "        mean_1=np.mean(X[y==classes[1]], axis=0)\n",
    "\n",
    "        covariance_matrix_inverse = np.linalg.inv(covariance_matrix)\n",
    "        no_0 = (y==classes[0]).sum()\n",
    "        no_1=(y==classes[1]).sum()\n",
    "\n",
    "        self.w=covariance_matrix_inverse.dot(mean_1-mean_0)\n",
    "        print((mean_0+mean_1).dot(covariance_matrix_inverse))\n",
    "        self.b=(1/2)*(mean_0+mean_1).T.dot(covariance_matrix_inverse).dot((mean_0-mean_1))+np.log(no_1/no_0)\n",
    "\n",
    "        \n",
    "    def predict_proba(self, Xtest):\n",
    "        f = self.w.T.dot(Xtest)+self.b\n",
    "        print(\"Predicted: \",f)\n",
    "        return f\n",
    "    def predict(self, Xtest):\n",
    "        f = np.sign(self.w.T.dot(Xtest)+self.b)\n",
    "        print(\"Predicted: \",f)\n",
    "        return f\n",
    "    def get_params(self):\n",
    "        print(\"w: \",self.w ,\"\\nb: \",self.b)\n",
    "        return (self.w, self.b)\n",
    "    \n",
    "class QDA:\n",
    "    def fit(X,y):\n",
    "        return NotImplementedError\n",
    "    def predict_proba(Xtest):\n",
    "        return NotImplementedError\n",
    "    def predict(Xtest):\n",
    "        return NotImplementedError\n",
    "    def get_params():\n",
    "        return NotImplementedError\n",
    "    \n",
    "\n",
    "class NB:\n",
    "    def fit(X,y):\n",
    "        return NotImplementedError\n",
    "    def predict_proba(Xtest):\n",
    "        return NotImplementedError\n",
    "    def predict(Xtest):\n",
    "        return NotImplementedError\n",
    "    def get_params():\n",
    "        return NotImplementedError\n",
    "    \n",
    "\n"
   ]
  },
  {
   "cell_type": "code",
   "execution_count": 104,
   "metadata": {},
   "outputs": [
    {
     "name": "stdout",
     "output_type": "stream",
     "text": [
      "[1 1 1 0 1 0 0 1 0 1]\n",
      "[2.67624602 4.56589187 2.72409731 1.00858302]\n",
      "[-1.98363422e+17 -3.03894164e+16 -5.02266932e+16 -1.42770689e+16]\n",
      "w:  [-2.57433837e+16 -3.94390458e+15 -6.51836424e+15 -1.85286209e+15] \n",
      "b:  1.224154321497406e+17\n"
     ]
    },
    {
     "data": {
      "text/plain": [
       "(array([-2.57433837e+16, -3.94390458e+15, -6.51836424e+15, -1.85286209e+15]),\n",
       " 1.224154321497406e+17)"
      ]
     },
     "execution_count": 104,
     "metadata": {},
     "output_type": "execute_result"
    }
   ],
   "source": [
    "lda=LDA()\n",
    "X = np.random.normal(3, 2.5, size=(10, 4))\n",
    "Y = np.random.randint(2,size=10)\n",
    "print(Y)\n",
    "lda.fit(X,Y)\n",
    "lda.get_params()"
   ]
  },
  {
   "cell_type": "code",
   "execution_count": 122,
   "metadata": {},
   "outputs": [
    {
     "name": "stdout",
     "output_type": "stream",
     "text": [
      "Predicted:  -1.0\n"
     ]
    },
    {
     "data": {
      "text/plain": [
       "-1.0"
      ]
     },
     "execution_count": 122,
     "metadata": {},
     "output_type": "execute_result"
    }
   ],
   "source": [
    "\n",
    "\n",
    "lda.predict(X[0])"
   ]
  }
 ],
 "metadata": {
  "kernelspec": {
   "display_name": "Python 3",
   "language": "python",
   "name": "python3"
  },
  "language_info": {
   "codemirror_mode": {
    "name": "ipython",
    "version": 3
   },
   "file_extension": ".py",
   "mimetype": "text/x-python",
   "name": "python",
   "nbconvert_exporter": "python",
   "pygments_lexer": "ipython3",
   "version": "3.12.2"
  }
 },
 "nbformat": 4,
 "nbformat_minor": 2
}
